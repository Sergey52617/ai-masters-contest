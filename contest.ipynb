{
  "metadata": {
    "kernelspec": {
      "language": "python",
      "display_name": "Python 3",
      "name": "python3"
    },
    "language_info": {
      "name": "python",
      "version": "3.7.12",
      "mimetype": "text/x-python",
      "codemirror_mode": {
        "name": "ipython",
        "version": 3
      },
      "pygments_lexer": "ipython3",
      "nbconvert_exporter": "python",
      "file_extension": ".py"
    },
    "colab": {
      "provenance": []
    }
  },
  "nbformat_minor": 0,
  "nbformat": 4,
  "cells": [
    {
      "cell_type": "markdown",
      "source": [
        "# Данные"
      ],
      "metadata": {
        "id": "i6SD9i5YsLR1"
      }
    },
    {
      "cell_type": "code",
      "source": [
        "# Используемые сторонние библиотеки\n",
        "import numpy as np\n",
        "from scipy.signal import convolve2d\n",
        "import pandas as pd\n",
        "import matplotlib.pyplot as plt\n",
        "\n",
        "import os\n",
        "import gc\n",
        "import pickle\n",
        "\n",
        "path_dataset = '../input/ai-masters-ds-contest-2022'\n",
        "path_output = './'\n",
        "\n",
        "df = pd.read_csv(os.path.join(path_dataset, 'train2022.csv'))\n",
        "y_arr = df.iloc[:, 403:].to_numpy().reshape((-1, 20, 20)).astype('bool')"
      ],
      "metadata": {
        "id": "DYPU788qpnOM",
        "execution": {
          "iopub.status.busy": "2022-08-15T22:59:02.024971Z",
          "iopub.execute_input": "2022-08-15T22:59:02.025656Z",
          "iopub.status.idle": "2022-08-15T22:59:06.960858Z",
          "shell.execute_reply.started": "2022-08-15T22:59:02.025530Z",
          "shell.execute_reply": "2022-08-15T22:59:06.959396Z"
        },
        "trusted": true
      },
      "execution_count": null,
      "outputs": []
    },
    {
      "cell_type": "markdown",
      "source": [
        "Рассмотрим функцию, используемую при формирование выборки"
      ],
      "metadata": {
        "id": "kpfTGpjZsLR5"
      }
    },
    {
      "cell_type": "code",
      "source": [
        "n = 20\n",
        "alpha = np.tile(np.floor(np.arange(n) / (n / 3)) + 1, (n, 1))\n",
        "beta =  alpha.T + 1\n",
        "alpha, beta = np.minimum(alpha, beta), np.maximum(alpha, beta)\n",
        "gamma = (alpha + beta) / 2\n",
        "\n",
        "def make_step(X):\n",
        "    n = X.shape[0]\n",
        "    nbrs_count = convolve2d(X, np.ones((3, 3)), mode='same', boundary='wrap') - X\n",
        "    alpha = np.tile(np.floor(np.arange(n) / (n / 3)) + 1, (n, 1))\n",
        "    beta =  alpha.T + 1\n",
        "    alpha, beta = np.minimum(alpha, beta), np.maximum(alpha, beta)\n",
        "    gamma = (alpha + beta) / 2\n",
        "    return ((nbrs_count <= beta)&(nbrs_count >= gamma)) | (X & (nbrs_count >= alpha)& (nbrs_count <= gamma))\n",
        "\n",
        "def makeksteps(X, k=3):\n",
        "    for i in range(k):\n",
        "        X = make_step(X)\n",
        "    return (X)\n",
        "\n",
        "fig = plt.figure(figsize=(16, 16))\n",
        "fig.add_subplot(1, 3, 1)\n",
        "plt.imshow(alpha)\n",
        "fig.add_subplot(1, 3, 2)\n",
        "plt.imshow(beta)\n",
        "fig.add_subplot(1, 3, 3)\n",
        "plt.imshow(gamma)\n",
        "None"
      ],
      "metadata": {
        "execution": {
          "iopub.status.busy": "2022-08-15T22:59:06.963457Z",
          "iopub.execute_input": "2022-08-15T22:59:06.963971Z",
          "iopub.status.idle": "2022-08-15T22:59:07.471698Z",
          "shell.execute_reply.started": "2022-08-15T22:59:06.963923Z",
          "shell.execute_reply": "2022-08-15T22:59:07.470684Z"
        },
        "trusted": true,
        "id": "K72UhzO8sLR6",
        "outputId": "08b65b8f-e4bf-4adc-c6b5-914bf13d8fa1"
      },
      "execution_count": null,
      "outputs": [
        {
          "output_type": "display_data",
          "data": {
            "text/plain": "<Figure size 1152x1152 with 3 Axes>",
            "image/png": "[encoded data removed]"
          },
          "metadata": {
            "needs_background": "light"
          }
        }
      ]
    },
    {
      "cell_type": "markdown",
      "source": [
        "Матрица, полученная применением функции make_step, принимает значение в клетки с индексом $ij$ исходя из количества соседей, её состояния и местоположения."
      ],
      "metadata": {
        "id": "kxJlZzIPsLR7"
      }
    },
    {
      "cell_type": "code",
      "source": [
        "# Вспомогательные функции\n",
        "def vectorize_makeksteps(X, k=3):\n",
        "    return np.vectorize(lambda y: makeksteps(y, k), signature='(n,n)->(n,n)')(X)\n",
        "\n",
        "# Вычисляет среднее количество соседей для матриц, полученных в режиме i, через k шагов,\n",
        "def mean_ngbr_ksteps(i, k):\n",
        "    X = vectorize_makeksteps(y_arr[df['regime'] == i], k)\n",
        "    f = lambda y: convolve2d(y, np.ones((3, 3)), mode='same', boundary='wrap') - y\n",
        "    return np.mean(np.vectorize(f, signature='(n,n)->(n,n)')(X), axis=0)\n",
        "\n",
        "def mean_ksteps(i, k):\n",
        "    return np.mean(vectorize_makeksteps(y_arr[df['regime'] == i], k), axis=0)\n",
        "\n",
        "def std_ksteps(i, k):\n",
        "    return np.std(vectorize_makeksteps(y_arr[df['regime'] == i], k), axis=0)"
      ],
      "metadata": {
        "execution": {
          "iopub.status.busy": "2022-08-15T22:59:07.472844Z",
          "iopub.execute_input": "2022-08-15T22:59:07.473577Z",
          "iopub.status.idle": "2022-08-15T22:59:07.483177Z",
          "shell.execute_reply.started": "2022-08-15T22:59:07.473541Z",
          "shell.execute_reply": "2022-08-15T22:59:07.481543Z"
        },
        "trusted": true,
        "id": "PLBj2QWEsLR8"
      },
      "execution_count": null,
      "outputs": []
    },
    {
      "cell_type": "code",
      "source": [
        "fig = plt.figure(figsize=(16, 16))\n",
        "fig.add_subplot(1, 3, 1)\n",
        "plt.imshow(mean_ngbr_ksteps(0, 0))\n",
        "fig.add_subplot(1, 3, 2)\n",
        "plt.imshow(mean_ngbr_ksteps(1, 0))\n",
        "fig.add_subplot(1, 3, 3)\n",
        "plt.imshow(mean_ngbr_ksteps(2, 0))\n",
        "None"
      ],
      "metadata": {
        "id": "m9mHN9F4Wvu8",
        "outputId": "85375c58-e5b0-457c-a3ec-261f76a797f9",
        "tags": [],
        "execution": {
          "iopub.status.busy": "2022-08-15T22:59:07.487858Z",
          "iopub.execute_input": "2022-08-15T22:59:07.488371Z",
          "iopub.status.idle": "2022-08-15T22:59:10.070993Z",
          "shell.execute_reply.started": "2022-08-15T22:59:07.488323Z",
          "shell.execute_reply": "2022-08-15T22:59:10.069699Z"
        },
        "trusted": true
      },
      "execution_count": null,
      "outputs": [
        {
          "output_type": "display_data",
          "data": {
            "text/plain": "<Figure size 1152x1152 with 3 Axes>",
            "image/png": "[encoded data removed]"
          },
          "metadata": {
            "needs_background": "light"
          }
        }
      ]
    },
    {
      "cell_type": "code",
      "source": [
        "fig = plt.figure(figsize=(16, 16))\n",
        "fig.add_subplot(1, 3, 1)\n",
        "plt.imshow(mean_ksteps(0, 0))\n",
        "fig.add_subplot(1, 3, 2)\n",
        "plt.imshow(mean_ksteps(1, 0))\n",
        "fig.add_subplot(1, 3, 3)\n",
        "plt.imshow(mean_ksteps(2, 0))\n",
        "None"
      ],
      "metadata": {
        "id": "lFdTa3Uejfoq",
        "outputId": "14b51084-36b4-46c6-80aa-b1c259dda506",
        "tags": [],
        "execution": {
          "iopub.status.busy": "2022-08-15T22:59:10.072547Z",
          "iopub.execute_input": "2022-08-15T22:59:10.072941Z",
          "iopub.status.idle": "2022-08-15T22:59:10.776359Z",
          "shell.execute_reply.started": "2022-08-15T22:59:10.072905Z",
          "shell.execute_reply": "2022-08-15T22:59:10.773525Z"
        },
        "trusted": true
      },
      "execution_count": null,
      "outputs": [
        {
          "output_type": "display_data",
          "data": {
            "text/plain": "<Figure size 1152x1152 with 3 Axes>",
            "image/png": "[encoded data removed]"
          },
          "metadata": {
            "needs_background": "light"
          }
        }
      ]
    },
    {
      "cell_type": "markdown",
      "source": [
        "Положим  $y = (y_{ij})$ <br /> Предположение: режим влияет на расположение квадрата 10x10, элемент которого равен $1$ с вероятностью $\\frac{1}{2}$, $y_{ij}$ - независимы, $P(y_{ij} = 1)$ постоянна на диагонали, т.е. $P(y_{ij} = 1)= P(y_{i - 1,j + 1} = 1)$ (за исключением квадрата 10x10, соответствующего режиму). Вычислим эту вероятность."
      ],
      "metadata": {
        "id": "1VQsHXSqsLR9"
      }
    },
    {
      "cell_type": "code",
      "source": [
        "mask0 = np.full((20, 20), 1, dtype='int')\n",
        "mask1 = np.full((20, 20), 1, dtype='int')\n",
        "mask2 = np.full((20, 20), 1, dtype='int')\n",
        "\n",
        "mask0[:10, :10] = 0\n",
        "mask1[10:, :10] = 0\n",
        "mask2[:10, 10:] = 0\n",
        "\n",
        "# Количество наблюдений y_ij в выборке,\n",
        "# за исключением тех случаев, когда ij находится в квадрате, соответствующему режиму формирования y, y = (y_ij)\n",
        "count = np.full((20, 20), df.shape[0], dtype='float')\n",
        "\n",
        "count[:10, :10] -= df[df['regime'] == 0].shape[0]\n",
        "count[10:, :10] -= df[df['regime'] == 1].shape[0]\n",
        "count[:10, 10:] -= df[df['regime'] == 2].shape[0]\n",
        "\n",
        "EX = np.concatenate((\n",
        "    y_arr[df['regime'] == 0]*mask0,\n",
        "    y_arr[df['regime'] == 1]*mask1,\n",
        "    y_arr[df['regime'] == 2]*mask2), axis=0, dtype='float')\n",
        "\n",
        "EX = np.sum(EX, axis=0)\n",
        "\n",
        "# Суммируем по диагоналям и вычисляем среднее\n",
        "for k in range(1, 21):\n",
        "    S = 0\n",
        "    n = 0\n",
        "    for i in range(k):\n",
        "        S += EX[(k - 1) - i, i]\n",
        "        n += count[(k - 1) - i, i]\n",
        "\n",
        "    S /= n\n",
        "    for i in range(k):\n",
        "        EX[(k - 1) - i, i] = S\n",
        "\n",
        "for k in range(19, 0, -1):\n",
        "    S = 0\n",
        "    n = 0\n",
        "    for i in range(k):\n",
        "        S += EX[19 - i, (20 - k) + i]\n",
        "        n += count[19 - i, (20 - k) + i]\n",
        "\n",
        "    S /= n\n",
        "    for i in range(k):\n",
        "        EX[19 - i, (20 - k) + i] = S\n",
        "\n",
        "EX0 = np.copy(EX)\n",
        "EX1 = np.copy(EX)\n",
        "EX2 = np.copy(EX)\n",
        "EX3 = np.copy(EX)\n",
        "\n",
        "EX0[:10, :10] = 0.5\n",
        "EX1[10:, :10] = 0.5\n",
        "EX2[:10, 10:] = 0.5\n",
        "EX3[10:, 10:] = 0.5\n",
        "EX_arr = [EX0, EX1, EX2, EX3]"
      ],
      "metadata": {
        "id": "vaxDwwSuba9j",
        "execution": {
          "iopub.status.busy": "2022-08-15T22:59:11.012904Z",
          "iopub.execute_input": "2022-08-15T22:59:11.013602Z",
          "iopub.status.idle": "2022-08-15T22:59:11.455852Z",
          "shell.execute_reply.started": "2022-08-15T22:59:11.013551Z",
          "shell.execute_reply": "2022-08-15T22:59:11.454547Z"
        },
        "trusted": true
      },
      "execution_count": null,
      "outputs": []
    },
    {
      "cell_type": "markdown",
      "source": [
        "Полученные матрицы будем использовать для генерации синтетических данных."
      ],
      "metadata": {
        "id": "U6Sn1nTXsLR-"
      }
    },
    {
      "cell_type": "code",
      "source": [
        "def gen_data(default_rng, n, regime):\n",
        "    k = min(n, 10000)\n",
        "    return np.concatenate([default_rng.binomial(1, p=EX_arr[regime], size=(k, 20, 20)).astype('bool') for i in range(0, n, 10000)], axis=0)\n",
        "\n",
        "fig = plt.figure(figsize=(16, 16))\n",
        "fig.add_subplot(1, 2, 1)\n",
        "plt.imshow(EX)\n",
        "fig.add_subplot(1, 2, 2)\n",
        "plt.imshow(EX3)\n",
        "\n",
        "del df\n",
        "del y_arr"
      ],
      "metadata": {
        "execution": {
          "iopub.status.busy": "2022-08-15T22:59:11.457200Z",
          "iopub.execute_input": "2022-08-15T22:59:11.457972Z",
          "iopub.status.idle": "2022-08-15T22:59:11.841951Z",
          "shell.execute_reply.started": "2022-08-15T22:59:11.457933Z",
          "shell.execute_reply": "2022-08-15T22:59:11.840699Z"
        },
        "trusted": true,
        "id": "Y0WuuuSmsLR-",
        "outputId": "52417be6-f5fd-4fd0-f3e4-1c726c54ed35"
      },
      "execution_count": null,
      "outputs": [
        {
          "output_type": "display_data",
          "data": {
            "text/plain": "<Figure size 1152x1152 with 2 Axes>",
            "image/png": "[encoded data removed]"
          },
          "metadata": {
            "needs_background": "light"
          }
        }
      ]
    },
    {
      "cell_type": "markdown",
      "source": [
        "# Классификатор"
      ],
      "metadata": {
        "id": "rYIaAfQEsLR_"
      }
    },
    {
      "cell_type": "markdown",
      "source": [
        "Положим $X = (x_{ij}),\\ X = \\text{makeksteps}(y, k)$.\n",
        "<br />\n",
        "Для предсказания будем использовать наивный байессовский классификатор. $P(y_{ij} = 1)$ считаем равным EX3[i, j], $P(x_{pq} = 1 | y_{ij} = C)$ вычисляем как среднее $x_{pq}$ по подвыборки с $y_{ij} = C$.\n",
        "<br />\n",
        "Возможная модификация: Состояние клетки с индексом $ij$ через $k$ шагов зависит от соседей, находящихся на расстояние не более $k$, следовательно для остальных случаев $P(x_{pq} = 1 | y_{ij} = C) = P(x_{pq} = 1)$ (в предположении, что $y_{ij}$ независимы). Для $k \\leq 2$ можно явно вычислить решения $x_{pq} = 1$ и затем вероятность $P(x_{pq} = 1 | y_{ij} = C)$."
      ],
      "metadata": {
        "id": "pPyw2EnmsLR_"
      }
    },
    {
      "cell_type": "code",
      "source": [
        "n = 9000000\n",
        "seed = 611\n",
        "rng = np.random.default_rng(seed)\n",
        "\n",
        "# probability[steps][i, j, C, k, l]  <=> P(X_kl = 1 | y_ij = C)\n",
        "probability = {steps: np.zeros((20, 20, 2, 20, 20), dtype='float') for steps in range(5)}\n",
        "\n",
        "# Сгенерируем новые данные\n",
        "X = gen_data(default_rng=rng, n=n, regime=3).astype('bool')\n",
        "\n",
        "gc.collect()\n",
        "\n",
        "# Индексы матриц с y_ij = 0\n",
        "y_0_idx = np.moveaxis(X == 0, [0, 1, 2], [2, 0, 1])\n",
        "# Индексы матриц y_ij = 1\n",
        "y_1_idx = np.moveaxis(X == 1, [0, 1, 2], [2, 0, 1])\n",
        "\n",
        "for steps in range(5):\n",
        "    print(f'step={steps+1} begin')\n",
        "\n",
        "    # Применяем функцию make_step к сгенерированным данным\n",
        "    for i in range(n):\n",
        "        X[i] = make_step(X[i])\n",
        "\n",
        "    # Освобождаем память\n",
        "    gc.collect()\n",
        "\n",
        "    # Заполняем probability\n",
        "    for i in range(20):\n",
        "        for j in range(20):\n",
        "            probability[steps][i, j, 0] = X[y_0_idx[i, j]].mean(axis=0)\n",
        "            probability[steps][i, j, 1] = X[y_1_idx[i, j]].mean(axis=0)\n",
        "\n",
        "\n",
        "\n",
        "del X\n",
        "del y_0_idx\n",
        "del y_1_idx\n",
        "\n",
        "# Чекпоинт\n",
        "filename = f'{n}_{seed}_clf_20x20.pickle'\n",
        "with open(filename, 'wb') as f:\n",
        "        pickle.dump(probability, f)"
      ],
      "metadata": {
        "execution": {
          "iopub.status.busy": "2022-08-15T22:59:11.843639Z",
          "iopub.execute_input": "2022-08-15T22:59:11.844839Z",
          "iopub.status.idle": "2022-08-16T02:31:45.814241Z",
          "shell.execute_reply.started": "2022-08-15T22:59:11.844787Z",
          "shell.execute_reply": "2022-08-16T02:31:45.812457Z"
        },
        "trusted": true,
        "id": "Ix7Q7vKNsLR_",
        "outputId": "9a393eec-7ffe-47f9-b2fe-dbf700eb2adc"
      },
      "execution_count": null,
      "outputs": [
        {
          "name": "stdout",
          "text": "step=1 begin\nstep=2 begin\nstep=3 begin\nstep=4 begin\nstep=5 begin\n",
          "output_type": "stream"
        }
      ]
    },
    {
      "cell_type": "code",
      "source": [
        "def predict(X):\n",
        "    # X - pd.DataFrame: id, regime, steps, x_0, x_1 ... x_399\n",
        "\n",
        "    n = X.shape[0]\n",
        "    X_arr = X.iloc[:, 3:].to_numpy().reshape((n, 20, 20))\n",
        "    X_inv = X_arr ^ 1 # 1 - X_arr\n",
        "\n",
        "    prediction = np.empty((n, 20, 20), dtype='float')\n",
        "\n",
        "    for idx in range(n):\n",
        "        steps = X.iloc[idx, 2]\n",
        "        for i in range(20):\n",
        "            for j in range(20):\n",
        "\n",
        "                probability_matrix_0 = probability[steps - 1][i, j, 0]\n",
        "                probability_matrix_1 = probability[steps - 1][i, j, 1]\n",
        "                X_matrix = X_arr[idx]\n",
        "                X_inv_matrix = X_inv[idx]\n",
        "\n",
        "                # P(X=X^0 | y_ij = 0)\n",
        "                P_0 = np.prod(X_matrix*probability_matrix_0 + X_inv_matrix*(1 - probability_matrix_0))\n",
        "\n",
        "                # P(X=X^0 | y_ij = 1)\n",
        "                P_1 = np.prod(X_matrix*probability_matrix_1 + X_inv_matrix*(1 - probability_matrix_1))\n",
        "\n",
        "                #                 P(X=X^0 | y_ij = 1)*P(y_ij = 1)\n",
        "                # -----------------------------------------------------------------\n",
        "                # P(X=X^0 | y_ij = 0)*P(y_ij = 0) + P(X=X^0 | y_ij = 1)*P(y_ij = 1)\n",
        "                prediction[idx, i, j] = P_1/(P_0*(1 - EX3[i, j]) + P_1*EX3[i, j])\n",
        "\n",
        "    prediction *= EX3\n",
        "\n",
        "    return prediction"
      ],
      "metadata": {
        "execution": {
          "iopub.status.busy": "2022-08-16T02:31:45.819820Z",
          "iopub.execute_input": "2022-08-16T02:31:45.821153Z",
          "iopub.status.idle": "2022-08-16T02:31:45.837705Z",
          "shell.execute_reply.started": "2022-08-16T02:31:45.821103Z",
          "shell.execute_reply": "2022-08-16T02:31:45.835447Z"
        },
        "trusted": true,
        "id": "5XZVprz2sLR_"
      },
      "execution_count": null,
      "outputs": []
    },
    {
      "cell_type": "markdown",
      "source": [
        "В качестве прогноза будем брать взвешенную cумму предсказания исходного классификатора и усредненного решения EX3. Попробуем подобрать веса на синтетических данных."
      ],
      "metadata": {
        "id": "29ZiYZ54sLR_"
      }
    },
    {
      "cell_type": "code",
      "source": [
        "n = 150000\n",
        "seed = 327\n",
        "rng = np.random.default_rng(seed)\n",
        "\n",
        "X_gen = gen_data(default_rng=rng, n=n, regime=3).astype('bool')\n",
        "\n",
        "filename = f'{n}_{seed}_y_20x20.pickle'\n",
        "with open(filename, 'wb') as f:\n",
        "        pickle.dump(X_gen, f)\n",
        "\n",
        "\n",
        "for steps in range(5):\n",
        "\n",
        "    gc.collect()\n",
        "\n",
        "    X_gen = vectorize_makeksteps(X_gen, k=1)\n",
        "    X = pd.DataFrame(data=\n",
        "                     np.stack((\n",
        "                         np.arange(n),\n",
        "                         np.full(n, 3),\n",
        "                         np.full(n, steps + 1),\n",
        "                         *np.moveaxis(X_gen.reshape((-1, 400)), [0, 1], [1, 0])), axis=1),\n",
        "                     columns=['id', 'regime', 'steps'] + [f'x_{i}' for i in range(400)])\n",
        "\n",
        "    pred = predict(X)\n",
        "    filename = f'{n}_{seed}_pred_20x20_step_{steps+1}.pickle'\n",
        "    with open(filename, 'wb') as f:\n",
        "            pickle.dump(pred, f)\n",
        "\n",
        "del X_gen"
      ],
      "metadata": {
        "execution": {
          "iopub.status.busy": "2022-08-16T02:31:45.840028Z",
          "iopub.execute_input": "2022-08-16T02:31:45.841232Z",
          "iopub.status.idle": "2022-08-16T05:14:05.362028Z",
          "shell.execute_reply.started": "2022-08-16T02:31:45.841187Z",
          "shell.execute_reply": "2022-08-16T05:14:05.358585Z"
        },
        "trusted": true,
        "id": "cC0OHG9fsLR_"
      },
      "execution_count": null,
      "outputs": []
    },
    {
      "cell_type": "code",
      "source": [
        "def MSE(y_true, y_pred):\n",
        "    return np.mean(np.mean((y_true - y_pred)**2, axis=0))\n",
        "\n",
        "path = os.path.join(path_output, f'{n}_{seed}_y_20x20.pickle')\n",
        "with open(path, 'rb') as f:\n",
        "    y = pickle.load(f).reshape((-1, 400))\n",
        "\n",
        "EX3_broadcast = np.broadcast_to(EX3.reshape((-1, 400)), (y.shape[0], 400))"
      ],
      "metadata": {
        "execution": {
          "iopub.status.busy": "2022-08-16T05:14:05.366169Z",
          "iopub.execute_input": "2022-08-16T05:14:05.366720Z",
          "iopub.status.idle": "2022-08-16T05:14:05.837707Z",
          "shell.execute_reply.started": "2022-08-16T05:14:05.366680Z",
          "shell.execute_reply": "2022-08-16T05:14:05.836172Z"
        },
        "trusted": true,
        "id": "IglpfhL5sLSA"
      },
      "execution_count": null,
      "outputs": []
    },
    {
      "cell_type": "code",
      "source": [
        "steps = 1\n",
        "\n",
        "path = os.path.join(path_output, f'{n}_{seed}_pred_20x20_step_{steps}.pickle')\n",
        "with open(path, 'rb') as f:\n",
        "    prediction = pickle.load(f).reshape((-1, 400))\n",
        "\n",
        "arr = []\n",
        "for a in np.arange(0.8, 0.9, 0.001):\n",
        "    arr.append((a, MSE(y, a*prediction + (1 - a)*EX3_broadcast)))\n",
        "arr = sorted(arr, key = lambda x: x[1])\n",
        "for a, mse in arr[:5]:\n",
        "    print(f'steps={steps}, a={a},', mse)"
      ],
      "metadata": {
        "execution": {
          "iopub.status.busy": "2022-08-16T05:14:05.839849Z",
          "iopub.execute_input": "2022-08-16T05:14:05.840384Z",
          "iopub.status.idle": "2022-08-16T05:15:37.422432Z",
          "shell.execute_reply.started": "2022-08-16T05:14:05.840335Z",
          "shell.execute_reply": "2022-08-16T05:15:37.420980Z"
        },
        "trusted": true,
        "id": "6bDhfL2OsLSA",
        "outputId": "9090b6bb-b0ba-44a4-bb78-55a3c065ce56"
      },
      "execution_count": null,
      "outputs": [
        {
          "name": "stdout",
          "text": "steps=1, a=0.8280000000000001, 0.19104594028324903\nsteps=1, a=0.8270000000000001, 0.19104598333037323\nsteps=1, a=0.8290000000000001, 0.19104599675983022\nsteps=1, a=0.8260000000000001, 0.1910461259012029\nsteps=1, a=0.8300000000000001, 0.19104615276011683\n",
          "output_type": "stream"
        }
      ]
    },
    {
      "cell_type": "code",
      "source": [
        "steps = 2\n",
        "\n",
        "path = os.path.join(path_output, f'{n}_{seed}_pred_20x20_step_{steps}.pickle')\n",
        "with open(path, 'rb') as f:\n",
        "    prediction = pickle.load(f).reshape((-1, 400))\n",
        "\n",
        "arr = []\n",
        "for a in np.arange(0.5, 0.64, 0.001):\n",
        "    arr.append((a, MSE(y, a*prediction + (1 - a)*EX3_broadcast)))\n",
        "arr = sorted(arr, key = lambda x: x[1])\n",
        "for a, mse in arr[:5]:\n",
        "    print(f'steps={steps}, a={a},', mse)"
      ],
      "metadata": {
        "execution": {
          "iopub.status.busy": "2022-08-16T05:15:37.425283Z",
          "iopub.execute_input": "2022-08-16T05:15:37.426254Z",
          "iopub.status.idle": "2022-08-16T05:17:38.334408Z",
          "shell.execute_reply.started": "2022-08-16T05:15:37.426184Z",
          "shell.execute_reply": "2022-08-16T05:17:38.332858Z"
        },
        "trusted": true,
        "id": "ov7PpKkisLSA",
        "outputId": "4925c0ea-072f-4490-fa81-d178e286c6ff"
      },
      "execution_count": null,
      "outputs": [
        {
          "name": "stdout",
          "text": "steps=2, a=0.5940000000000001, 0.21780449068537627\nsteps=2, a=0.5930000000000001, 0.21780450537101836\nsteps=2, a=0.5950000000000001, 0.21780451769320977\nsteps=2, a=0.5920000000000001, 0.2178045617501349\nsteps=2, a=0.5960000000000001, 0.21780458639451855\n",
          "output_type": "stream"
        }
      ]
    },
    {
      "cell_type": "code",
      "source": [
        "steps = 3\n",
        "\n",
        "path = os.path.join(path_output, f'{n}_{seed}_pred_20x20_step_{steps}.pickle')\n",
        "with open(path, 'rb') as f:\n",
        "    prediction = pickle.load(f).reshape((-1, 400))\n",
        "\n",
        "arr = []\n",
        "for a in np.arange(0.4, 0.55, 0.001):\n",
        "    arr.append((a, MSE(y, a*prediction + (1 - a)*EX3_broadcast)))\n",
        "arr = sorted(arr, key = lambda x: x[1])\n",
        "for a, mse in arr[:5]:\n",
        "    print(f'steps={steps}, a={a},', mse)"
      ],
      "metadata": {
        "execution": {
          "iopub.status.busy": "2022-08-16T05:17:38.336192Z",
          "iopub.execute_input": "2022-08-16T05:17:38.336561Z",
          "iopub.status.idle": "2022-08-16T05:19:38.516393Z",
          "shell.execute_reply.started": "2022-08-16T05:17:38.336530Z",
          "shell.execute_reply": "2022-08-16T05:19:38.514923Z"
        },
        "trusted": true,
        "id": "c_xrqMVhsLSA",
        "outputId": "a1bb3c8a-f748-4aac-8240-3fc2ea66d822"
      },
      "execution_count": null,
      "outputs": [
        {
          "name": "stdout",
          "text": "steps=3, a=0.4770000000000001, 0.2224432616437104\nsteps=3, a=0.4780000000000001, 0.2224432647716683\nsteps=3, a=0.4760000000000001, 0.2224432823268878\nsteps=3, a=0.4790000000000001, 0.22244329171076202\nsteps=3, a=0.4750000000000001, 0.2224433268212006\n",
          "output_type": "stream"
        }
      ]
    },
    {
      "cell_type": "code",
      "source": [
        "steps = 4\n",
        "\n",
        "path = os.path.join(path_output, f'{n}_{seed}_pred_20x20_step_{steps}.pickle')\n",
        "with open(path, 'rb') as f:\n",
        "    prediction = pickle.load(f).reshape((-1, 400))\n",
        "\n",
        "arr = []\n",
        "for a in np.arange(0.4, 0.5, 0.001):\n",
        "    arr.append((a, MSE(y, a*prediction + (1 - a)*EX3_broadcast)))\n",
        "arr = sorted(arr, key = lambda x: x[1])\n",
        "for a, mse in arr[:5]:\n",
        "    print(f'steps={steps}, a={a},', mse)"
      ],
      "metadata": {
        "execution": {
          "iopub.status.busy": "2022-08-16T05:19:38.519005Z",
          "iopub.execute_input": "2022-08-16T05:19:38.519550Z",
          "iopub.status.idle": "2022-08-16T05:20:59.171530Z",
          "shell.execute_reply.started": "2022-08-16T05:19:38.519494Z",
          "shell.execute_reply": "2022-08-16T05:20:59.170151Z"
        },
        "trusted": true,
        "id": "SlJgXh60sLSB",
        "outputId": "f945ba44-a15a-4e05-aedf-d51e0cbf2ebd"
      },
      "execution_count": null,
      "outputs": [
        {
          "name": "stdout",
          "text": "steps=4, a=0.44200000000000006, 0.2239219254338839\nsteps=4, a=0.44100000000000006, 0.22392192563341118\nsteps=4, a=0.44300000000000006, 0.22392193789887813\nsteps=4, a=0.44000000000000006, 0.22392193849745862\nsteps=4, a=0.44400000000000006, 0.2239219630283931\n",
          "output_type": "stream"
        }
      ]
    },
    {
      "cell_type": "code",
      "source": [
        "steps = 5\n",
        "\n",
        "path = os.path.join(path_output, f'{n}_{seed}_pred_20x20_step_{steps}.pickle')\n",
        "with open(path, 'rb') as f:\n",
        "    prediction = pickle.load(f).reshape((-1, 400))\n",
        "\n",
        "arr = []\n",
        "for a in np.arange(0.32, 0.45, 0.001):\n",
        "    arr.append((a, MSE(y, a*prediction + (1 - a)*EX3_broadcast)))\n",
        "arr = sorted(arr, key = lambda x: x[1])\n",
        "for a, mse in arr[:5]:\n",
        "    print(f'steps={steps}, a={a},', mse)"
      ],
      "metadata": {
        "execution": {
          "iopub.status.busy": "2022-08-16T05:20:59.173957Z",
          "iopub.execute_input": "2022-08-16T05:20:59.174521Z",
          "iopub.status.idle": "2022-08-16T05:22:37.973114Z",
          "shell.execute_reply.started": "2022-08-16T05:20:59.174475Z",
          "shell.execute_reply": "2022-08-16T05:22:37.971732Z"
        },
        "trusted": true,
        "id": "k2dhDegRsLSB",
        "outputId": "1ba2673a-305e-4027-df6f-af2d30f1a46e"
      },
      "execution_count": null,
      "outputs": [
        {
          "name": "stdout",
          "text": "steps=5, a=0.38900000000000007, 0.22445630377560716\nsteps=5, a=0.39000000000000007, 0.22445630782079357\nsteps=5, a=0.38800000000000007, 0.22445630897938657\nsteps=5, a=0.39100000000000007, 0.22445632111494582\nsteps=5, a=0.38700000000000007, 0.22445632343213176\n",
          "output_type": "stream"
        }
      ]
    },
    {
      "cell_type": "markdown",
      "source": [
        "Получаем следующие веса\n",
        "\n",
        "* steps=1, a=0.828, 0.19104594028324903\n",
        "* steps=2, a=0.594, 0.21780449068537627\n",
        "* steps=3, a=0.477, 0.2224432616437104\n",
        "* steps=4, a=0.442, 0.2239219254338839\n",
        "* steps=5, a=0.389, 0.22445630377560716\n",
        "\n"
      ],
      "metadata": {
        "id": "xJq-f5uKsLSB"
      }
    },
    {
      "cell_type": "markdown",
      "source": [
        "# Формируем ответ"
      ],
      "metadata": {
        "id": "eYl2bx4ysLSB"
      }
    },
    {
      "cell_type": "code",
      "source": [
        "n = 9000000\n",
        "seed = 611\n",
        "\n",
        "df_test = pd.read_csv(os.path.join(path_dataset, 'test2022.csv'))\n",
        "prediction = predict(df_test).reshape((-1, 400))\n",
        "\n",
        "filename = f'{n}_{seed}_pred_test_20x20.pickle'\n",
        "with open(filename, 'wb') as f:\n",
        "        pickle.dump(prediction, f)\n",
        "\n",
        "\n",
        "a = [0.828, 0.594, 0.477, 0.442, 0.389]\n",
        "\n",
        "for steps in range(1, 6):\n",
        "    idx = df_test['steps'] == steps\n",
        "    df_test.loc[idx, df_test.columns[3:]] = a[steps - 1]*prediction[idx] + (1 - a[steps - 1])*EX3.reshape((-1, 400))\n",
        "\n",
        "df_test.drop(labels=['regime', 'steps'], axis=1, inplace=True)\n",
        "df_test.columns.values[1:] = [f'y_{i}' for i in range(400)]\n",
        "df_test.to_csv('9kk_611_20x20_0.828_0.594_0.477_0.442_0.389.csv', index=False)"
      ],
      "metadata": {
        "execution": {
          "iopub.status.busy": "2022-08-16T05:22:37.975124Z",
          "iopub.execute_input": "2022-08-16T05:22:37.976037Z",
          "iopub.status.idle": "2022-08-16T05:35:29.669523Z",
          "shell.execute_reply.started": "2022-08-16T05:22:37.975997Z",
          "shell.execute_reply": "2022-08-16T05:35:29.668259Z"
        },
        "trusted": true,
        "id": "WN9xDTHmsLSB"
      },
      "execution_count": null,
      "outputs": []
    }
  ]
}